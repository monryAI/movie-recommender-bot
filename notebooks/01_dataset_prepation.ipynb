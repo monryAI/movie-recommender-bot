{
 "cells": [
  {
   "cell_type": "code",
   "execution_count": 1,
   "id": "dec8e1c6-72ff-414e-a3ec-4268340ff1ca",
   "metadata": {},
   "outputs": [],
   "source": [
    "# импорт библиотек\n",
    "import pandas as pd\n",
    "import numpy as np\n"
   ]
  },
  {
   "cell_type": "code",
   "execution_count": 2,
   "id": "21ea0740-d4f4-4ead-a72c-a852ce87f5c7",
   "metadata": {},
   "outputs": [],
   "source": [
    "# увеличим ширину отображения столбцов\n",
    "pd.set_option('display.max_colwidth', 200)\n"
   ]
  },
  {
   "cell_type": "code",
   "execution_count": 28,
   "id": "c61f250e-44a8-49a7-87f4-9a2038d68bc2",
   "metadata": {},
   "outputs": [
    {
     "data": {
      "text/plain": [
       "(45460, 24)"
      ]
     },
     "execution_count": 28,
     "metadata": {},
     "output_type": "execute_result"
    }
   ],
   "source": [
    "# загрузка\n",
    "df = pd.read_csv('../data/movies_metadata.csv', low_memory = False)\n",
    "df = df[df['title'].notna()]\n",
    "df.shape"
   ]
  },
  {
   "cell_type": "code",
   "execution_count": 31,
   "id": "33e106b2-e304-4a23-ba00-cf03d2893a01",
   "metadata": {},
   "outputs": [
    {
     "data": {
      "text/plain": [
       "['adult',\n",
       " 'belongs_to_collection',\n",
       " 'budget',\n",
       " 'genres',\n",
       " 'homepage',\n",
       " 'id',\n",
       " 'imdb_id',\n",
       " 'original_language',\n",
       " 'original_title',\n",
       " 'overview',\n",
       " 'popularity',\n",
       " 'poster_path',\n",
       " 'production_companies',\n",
       " 'production_countries',\n",
       " 'release_date',\n",
       " 'revenue',\n",
       " 'runtime',\n",
       " 'spoken_languages',\n",
       " 'status',\n",
       " 'tagline',\n",
       " 'title',\n",
       " 'video',\n",
       " 'vote_average',\n",
       " 'vote_count']"
      ]
     },
     "execution_count": 31,
     "metadata": {},
     "output_type": "execute_result"
    }
   ],
   "source": [
    "df.columns.tolist()"
   ]
  },
  {
   "cell_type": "code",
   "execution_count": 32,
   "id": "25dcfd82-fac4-4d06-a721-7ec4bcf966b2",
   "metadata": {},
   "outputs": [
    {
     "data": {
      "text/plain": [
       "np.float64(0.020985481742190937)"
      ]
     },
     "execution_count": 32,
     "metadata": {},
     "output_type": "execute_result"
    }
   ],
   "source": [
    "# проверим пустые значения в описаниях (overview)\n",
    "df['overview'].isna().mean()"
   ]
  },
  {
   "cell_type": "code",
   "execution_count": 33,
   "id": "1772a4ac-1f35-48ad-9644-8d063605f690",
   "metadata": {},
   "outputs": [],
   "source": [
    "# 2% пропущенных описаний - это мало, можно удалить эти строки\n",
    "df = df.dropna(subset = ['overview']).reset_index(drop = True)"
   ]
  },
  {
   "cell_type": "code",
   "execution_count": 34,
   "id": "8beaa92e-c15f-4763-a325-fe22b9db5e50",
   "metadata": {},
   "outputs": [
    {
     "data": {
      "text/plain": [
       "np.float64(0.0)"
      ]
     },
     "execution_count": 34,
     "metadata": {},
     "output_type": "execute_result"
    }
   ],
   "source": [
    "df['overview'].isna().mean()"
   ]
  },
  {
   "cell_type": "code",
   "execution_count": 18,
   "id": "c13d00f5-6109-40db-abc9-4566a26ccc90",
   "metadata": {},
   "outputs": [
    {
     "data": {
      "application/vnd.jupyter.widget-view+json": {
       "model_id": "4fc30adcb41049fa8b19eec616df9409",
       "version_major": 2,
       "version_minor": 0
      },
      "text/plain": [
       "Batches:   0%|          | 0/1391 [00:00<?, ?it/s]"
      ]
     },
     "metadata": {},
     "output_type": "display_data"
    },
    {
     "name": "stdout",
     "output_type": "stream",
     "text": [
      "начало\n",
      "Размер эмбеддингов: (44512, 384)\n",
      "конец\n"
     ]
    }
   ],
   "source": [
    "from sentence_transformers import SentenceTransformer\n",
    "\n",
    "# загрузим предобученную модель\n",
    "model = SentenceTransformer('all-MiniLM-L6-v2')\n",
    "\n",
    "# создаём эмбеддинги для всех описаний\n",
    "embeddings = model.encode(df['overview'].tolist(), show_progress_bar = True)\n",
    "print('начало')\n",
    "print(f\"Размер эмбеддингов: {embeddings.shape}\")\n",
    "print('конец')"
   ]
  },
  {
   "cell_type": "code",
   "execution_count": 35,
   "id": "91d0c262-a776-476e-ac5a-4cbe0c998d07",
   "metadata": {},
   "outputs": [],
   "source": [
    "# сохраним эмбеддинги и датафрейм, чтобы не пересчитывать их каждый раз\n",
    "import pickle\n",
    "\n",
    "# сохранение эмбеддинга\n",
    "with open('../data/embeddings.pkl', 'wb') as f:\n",
    "    pickle.dump(embeddings, f)\n",
    "\n",
    "\n",
    "# сохранение датафрейма\n",
    "df.to_csv('../data/movies_cleaned.csv', index = False)\n"
   ]
  },
  {
   "cell_type": "code",
   "execution_count": 36,
   "id": "112b8d56-a77c-492e-ac59-12f3e92f67e9",
   "metadata": {},
   "outputs": [],
   "source": [
    "with open('../data/embeddings.pkl', 'rb') as f:\n",
    "    embeddings = pickle.load(f)"
   ]
  },
  {
   "cell_type": "code",
   "execution_count": 37,
   "id": "e3d89398-7a87-4590-81f1-368704530a30",
   "metadata": {},
   "outputs": [],
   "source": [
    "from sklearn.metrics.pairwise import cosine_similarity\n",
    "import numpy as np\n",
    "\n",
    "def recommend_movies(query_index, embeddings, df, top_n = 5):\n",
    "    # считаем косинусную близость между фильмом и всеми остальными\n",
    "    similarities = cosine_similarity(\n",
    "        [embeddings[query_index]], \n",
    "        embeddings\n",
    "    )[0]\n",
    "\n",
    "    # получаем индексы топ-N схожих фильмов, исключая сам фильм (query_index)\n",
    "    similar_indices = similarities.argsort()[::-1][1:top_n + 1]\n",
    "\n",
    "    return df.iloc[similar_indices][['title', 'overview']]\n",
    "    "
   ]
  },
  {
   "cell_type": "code",
   "execution_count": 38,
   "id": "24cbc5a4-68a8-4650-8e1b-8ce4e9e313b3",
   "metadata": {},
   "outputs": [
    {
     "name": "stdout",
     "output_type": "stream",
     "text": [
      "Запрос: Margaret's Museum\n",
      "In a town where half the men die down the coalpit, Margaret MacNeil is quite happy being single in her small Cape Breton island town. Until she meets Neil Currie, a charming and sincere bagpipe-playing, Gaelic-speaking dishwasher. But no matter what you do, you can't avoid the spectre of the pit forever. \n",
      "\n"
     ]
    },
    {
     "data": {
      "text/html": [
       "<div>\n",
       "<style scoped>\n",
       "    .dataframe tbody tr th:only-of-type {\n",
       "        vertical-align: middle;\n",
       "    }\n",
       "\n",
       "    .dataframe tbody tr th {\n",
       "        vertical-align: top;\n",
       "    }\n",
       "\n",
       "    .dataframe thead th {\n",
       "        text-align: right;\n",
       "    }\n",
       "</style>\n",
       "<table border=\"1\" class=\"dataframe\">\n",
       "  <thead>\n",
       "    <tr style=\"text-align: right;\">\n",
       "      <th></th>\n",
       "      <th>title</th>\n",
       "      <th>overview</th>\n",
       "    </tr>\n",
       "  </thead>\n",
       "  <tbody>\n",
       "    <tr>\n",
       "      <th>40182</th>\n",
       "      <td>Murder in a Small Town</td>\n",
       "      <td>A widowed theatre director moves to a small Connecticut town where he gets involved in solving the murder of a millionaire, who was the most despised man in town.</td>\n",
       "    </tr>\n",
       "    <tr>\n",
       "      <th>4050</th>\n",
       "      <td>I Know Where I'm Going!</td>\n",
       "      <td>Joan Webster is an ambitious and stubborn middle-class English woman determined to move forward since her childhood. She meets her father in a fancy restaurant to tell him that she will marry the ...</td>\n",
       "    </tr>\n",
       "    <tr>\n",
       "      <th>23900</th>\n",
       "      <td>Dim Sum: A Little Bit of Heart</td>\n",
       "      <td>In San Francisco, an immigrant Chinese widow welcomes the new year with some unhappiness: she's 62 now, she wants to make a trip to China to pay last respects to her ancestors, a fortune teller ha...</td>\n",
       "    </tr>\n",
       "    <tr>\n",
       "      <th>36146</th>\n",
       "      <td>Oddsac</td>\n",
       "      <td>Opening with torch-wielding villagers and a wall bleeding oil, this experimental film attaches vivid scenery and strange characters to the wonderful melodic wavelengths of the band Animal Collecti...</td>\n",
       "    </tr>\n",
       "    <tr>\n",
       "      <th>28579</th>\n",
       "      <td>Fifty/Fifty</td>\n",
       "      <td>Two bickering mercenaries are hired by the CIA to overthrow a South East Asian dictator.</td>\n",
       "    </tr>\n",
       "  </tbody>\n",
       "</table>\n",
       "</div>"
      ],
      "text/plain": [
       "                                title  \\\n",
       "40182          Murder in a Small Town   \n",
       "4050          I Know Where I'm Going!   \n",
       "23900  Dim Sum: A Little Bit of Heart   \n",
       "36146                          Oddsac   \n",
       "28579                     Fifty/Fifty   \n",
       "\n",
       "                                                                                                                                                                                                      overview  \n",
       "40182                                       A widowed theatre director moves to a small Connecticut town where he gets involved in solving the murder of a millionaire, who was the most despised man in town.  \n",
       "4050   Joan Webster is an ambitious and stubborn middle-class English woman determined to move forward since her childhood. She meets her father in a fancy restaurant to tell him that she will marry the ...  \n",
       "23900  In San Francisco, an immigrant Chinese widow welcomes the new year with some unhappiness: she's 62 now, she wants to make a trip to China to pay last respects to her ancestors, a fortune teller ha...  \n",
       "36146  Opening with torch-wielding villagers and a wall bleeding oil, this experimental film attaches vivid scenery and strange characters to the wonderful melodic wavelengths of the band Animal Collecti...  \n",
       "28579                                                                                                                 Two bickering mercenaries are hired by the CIA to overthrow a South East Asian dictator.  "
      ]
     },
     "execution_count": 38,
     "metadata": {},
     "output_type": "execute_result"
    }
   ],
   "source": [
    "# используем\n",
    "query_index = 111   # рандом\n",
    "\n",
    "print('Запрос:', df.iloc[query_index]['title'])\n",
    "print(df.iloc[query_index]['overview'], \"\\n\")\n",
    "\n",
    "# рекомендации\n",
    "recommend_movies(query_index, embeddings, df)\n"
   ]
  },
  {
   "cell_type": "code",
   "execution_count": 39,
   "id": "98e119ec-2dc9-4435-a48e-ab76636837bf",
   "metadata": {},
   "outputs": [],
   "source": [
    "from sklearn.metrics.pairwise import cosine_similarity\n",
    "\n",
    "def get_recommendations(title: str, df, embeddings, top_n = 5) -> list:\n",
    "    # Находит фильмы, похожие по описанию\n",
    "    title = title.lower()\n",
    "    matches = df[df['title'].str.lower().str.contains(title)]\n",
    "\n",
    "    if matches.empty:\n",
    "        return []\n",
    "\n",
    "    query_index = matches.index[0]\n",
    "\n",
    "    sims = cosine_similarity(\n",
    "        [embeddings[query_index]],\n",
    "        embeddings\n",
    "    )[0]\n",
    "\n",
    "    similar_indices = sims.argsort()[::-1][1:top_n+1]\n",
    "    return df.iloc[similar_indices][['title', 'overview']].to_dict(orient='records')\n"
   ]
  },
  {
   "cell_type": "code",
   "execution_count": 40,
   "id": "23349f50-546c-4156-8eb0-8adf54503d30",
   "metadata": {},
   "outputs": [],
   "source": [
    "import nest_asyncio\n",
    "nest_asyncio.apply()"
   ]
  },
  {
   "cell_type": "code",
   "execution_count": 43,
   "id": "38013d73-c920-48e6-b6ac-a3105d0db54c",
   "metadata": {},
   "outputs": [],
   "source": [
    "from telegram import Update\n",
    "from telegram.ext import ApplicationBuilder, CommandHandler, ContextTypes, MessageHandler, filters\n",
    "import logging\n",
    "from dotenv import load_dotenv\n",
    "import os\n",
    "\n",
    "load_dotenv()\n",
    "\n",
    "BOT_TOKEN = os.getenv('BOT_TOKEN')\n",
    "\n",
    "\n",
    "logging.basicConfig(\n",
    "    format = '%(asctime)s - %(name)s - %(levelname)s - %(message)s', \n",
    "    level = logging.INFO\n",
    ")\n",
    "\n",
    "\n",
    "async def start(update: Update, context: ContextTypes.DEFAULT_TYPE):\n",
    "    await update.message.reply_text(\n",
    "        \"Привет, напиши название фильма, и я порекомендую похожие.\"\n",
    "    )\n",
    "\n",
    "\n",
    "async def recommend(update: Update, context: ContextTypes.DEFAULT_TYPE):\n",
    "    user_text = update.message.text\n",
    "    print(f\"Получено сообщение: {user_text}\")\n",
    "\n",
    "    recommendations = get_recommendations(user_text, df, embeddings, top_n=5)\n",
    "    print(f\"Найдено рекомендаций: {len(recommendations)}\")\n",
    "\n",
    "    if not recommendations:\n",
    "        await update.message.reply_text(\"Фильм не найден или похожих нет.\")\n",
    "    else:\n",
    "        response = \"\"\n",
    "        for rec in recommendations:\n",
    "            response += f\"{rec['title']}\\n{rec['overview']}\\n\\n\"\n",
    "        await update.message.reply_text(response)\n",
    "\n",
    "\n",
    "def main():\n",
    "    app = ApplicationBuilder().token(TOKEN).build()\n",
    "\n",
    "    app.add_handler(CommandHandler(\"start\", start))\n",
    "    app.add_handler(MessageHandler(filters.ALL, recommend))\n",
    "\n",
    "    print(\"Бот запущен...\")\n",
    "    app.run_polling()\n"
   ]
  },
  {
   "cell_type": "code",
   "execution_count": null,
   "id": "aa41c437-8b5b-4401-906f-b372165030b9",
   "metadata": {},
   "outputs": [],
   "source": [
    "main()"
   ]
  },
  {
   "cell_type": "code",
   "execution_count": null,
   "id": "0786f221-606b-4564-9b26-4ff6b8cb9d86",
   "metadata": {},
   "outputs": [],
   "source": []
  }
 ],
 "metadata": {
  "kernelspec": {
   "display_name": "Python 3 (ipykernel)",
   "language": "python",
   "name": "python3"
  },
  "language_info": {
   "codemirror_mode": {
    "name": "ipython",
    "version": 3
   },
   "file_extension": ".py",
   "mimetype": "text/x-python",
   "name": "python",
   "nbconvert_exporter": "python",
   "pygments_lexer": "ipython3",
   "version": "3.12.5"
  }
 },
 "nbformat": 4,
 "nbformat_minor": 5
}
