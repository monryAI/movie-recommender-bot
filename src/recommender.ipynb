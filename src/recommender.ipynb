{
 "cells": [
  {
   "cell_type": "code",
   "execution_count": 2,
   "id": "e5081a43-df87-492d-bb0c-b1f8bbcf05d4",
   "metadata": {},
   "outputs": [],
   "source": [
    "import pickle\n",
    "import pandas as pd\n",
    "\n",
    "\n",
    "# загрузка эмбеддингов\n",
    "with open('../data/embeddings.pkl', 'rb') as f:\n",
    "    embeddings = pickle.load(f)\n",
    "\n",
    "\n",
    "# загрузка датафрейма (очищенного)\n",
    "df = pd.read_csv('../data/movies_cleaned.csv', low_memory=False)\n"
   ]
  },
  {
   "cell_type": "code",
   "execution_count": 5,
   "id": "3d7f2134-2026-4d0c-a9ed-8e8c70b5b574",
   "metadata": {},
   "outputs": [],
   "source": [
    "from sklearn.metrics.pairwise import cosine_similarity\n",
    "\n",
    "\n",
    "def get_recommendations(title: str, df, embeddings, top_n = 5) -> list:\n",
    "    # находит похожие по описанию фильмы\n",
    "    title = title.lower()\n",
    "    matches = df[df['title'].notna() & df['title'].str.lower().str.contains(title)]\n",
    "\n",
    "    \n",
    "    if matches.empty:\n",
    "        return []\n",
    "\n",
    "\n",
    "    query_index = matches.index[0]\n",
    "\n",
    "\n",
    "    sims = cosine_similarity(\n",
    "        [embeddings[query_index]],\n",
    "        embeddings\n",
    "    )[0]\n",
    "\n",
    "\n",
    "    similar_indices = sims.argsort()[::-1][1:top_n+1]\n",
    "    return df.iloc[similar_indices][['title', 'overview']].to_dict(orient='records')"
   ]
  },
  {
   "cell_type": "code",
   "execution_count": 6,
   "id": "aff4f128-e8bf-42fb-afb9-b0fbfa6fea5b",
   "metadata": {},
   "outputs": [
    {
     "name": "stdout",
     "output_type": "stream",
     "text": [
      "1. A Detective Story\n",
      "   A private detective is hired to find the elusive computer hacker \"Trinity.\" Part of the Animatrix collection of animated shorts in the Matrix universe.\n",
      "\n",
      "2. 23\n",
      "   The movie's plot is based on the true story of a group of young computer hackers from Hannover, Germany. In the late 1980s the orphaned Karl Koch invests his heritage in a flat and a home computer. At first he dials up to bulletin boards to discuss conspiracy theories inspired by his favorite novel, R.A. Wilson's \"Illuminatus\", but soon he and his friend David start breaking into government and military computers. Pepe, one of Karl's rather criminal acquaintances senses that there is money in computer cracking - he travels to east Berlin and tries to contact the KGB.\n",
      "\n",
      "3. Algorithm\n",
      "   A freelance computer hacker discovers a mysterious government computer program. He breaks into the program and is thrust into a revolution.\n",
      "\n",
      "4. Commando\n",
      "   John Matrix, the former leader of a special commando strike force that always got the toughest jobs done, is forced back into action when his young daughter is kidnapped. To find her, Matrix has to fight his way through an array of punks, killers, one of his former commandos, and a fully equipped private army. With the help of a feisty stewardess and an old friend, Matrix has only a few hours to overcome his greatest challenge: finding his daughter before she's killed.\n",
      "\n",
      "5. The Matrix Reloaded\n",
      "   Six months after the events depicted in The Matrix, Neo has proved to be a good omen for the free humans, as more and more humans are being freed from the matrix and brought to Zion, the one and only stronghold of the Resistance.  Neo himself has discovered his superpowers including super speed, ability to see the codes of the things inside the matrix and a certain degree of pre-cognition. But a nasty piece of news hits the human resistance: 250,000 machine sentinels are digging to Zion and would reach them in 72 hours. As Zion prepares for the ultimate war, Neo, Morpheus and Trinity are advised by the Oracle to find the Keymaker who would help them reach the Source.  Meanwhile Neo's recurrent dreams depicting Trinity's death have got him worried and as if it was not enough, Agent Smith has somehow escaped deletion, has become more powerful than before and has fixed Neo as his next target.\n",
      "\n"
     ]
    }
   ],
   "source": [
    "test_title = \"The Matrix\"  # пример названия фильма\n",
    "recommendations = get_recommendations(test_title, df, embeddings, top_n=5)\n",
    "\n",
    "if not recommendations:\n",
    "    print(\"Фильм не найден или похожих нет.\")\n",
    "else:\n",
    "    for i, rec in enumerate(recommendations, 1):\n",
    "        print(f\"{i}. {rec['title']}\\n   {rec['overview']}\\n\")"
   ]
  },
  {
   "cell_type": "code",
   "execution_count": null,
   "id": "b9006131-68cd-4a96-8320-f591ce2ff164",
   "metadata": {},
   "outputs": [],
   "source": []
  },
  {
   "cell_type": "code",
   "execution_count": null,
   "id": "7042de7a-6865-4ce7-87d0-2800e386e323",
   "metadata": {},
   "outputs": [],
   "source": []
  }
 ],
 "metadata": {
  "kernelspec": {
   "display_name": "Python 3 (ipykernel)",
   "language": "python",
   "name": "python3"
  },
  "language_info": {
   "codemirror_mode": {
    "name": "ipython",
    "version": 3
   },
   "file_extension": ".py",
   "mimetype": "text/x-python",
   "name": "python",
   "nbconvert_exporter": "python",
   "pygments_lexer": "ipython3",
   "version": "3.12.5"
  }
 },
 "nbformat": 4,
 "nbformat_minor": 5
}
